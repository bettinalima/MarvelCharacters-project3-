{
 "cells": [
  {
   "cell_type": "code",
   "execution_count": 1,
   "metadata": {},
   "outputs": [],
   "source": [
    "import requests\n",
    "\n",
    "from bs4 import BeautifulSoup\n",
    "\n",
    "import pandas as pd\n",
    "\n",
    "url = \"http://developer.marvel.com\""
   ]
  },
  {
   "cell_type": "code",
   "execution_count": 2,
   "metadata": {},
   "outputs": [
    {
     "data": {
      "text/plain": [
       "200"
      ]
     },
     "execution_count": 2,
     "metadata": {},
     "output_type": "execute_result"
    }
   ],
   "source": [
    "result = requests.get(url)\n",
    "\n",
    "result.status_code"
   ]
  },
  {
   "cell_type": "code",
   "execution_count": 3,
   "metadata": {},
   "outputs": [],
   "source": [
    "from marvel import Marvel"
   ]
  },
  {
   "cell_type": "code",
   "execution_count": 4,
   "metadata": {},
   "outputs": [],
   "source": [
    "##get the keys \n",
    "\n",
    "m = Marvel(PUBLIC_KEY=\"de42e16324aa9d7a054c08a2ed146a8c\", PRIVATE_KEY= \"401bd5afaf45e75cf6d59087d589ea131f6c89d3\")"
   ]
  },
  {
   "cell_type": "code",
   "execution_count": 5,
   "metadata": {},
   "outputs": [
    {
     "data": {
      "text/html": [
       "<div>\n",
       "<style scoped>\n",
       "    .dataframe tbody tr th:only-of-type {\n",
       "        vertical-align: middle;\n",
       "    }\n",
       "\n",
       "    .dataframe tbody tr th {\n",
       "        vertical-align: top;\n",
       "    }\n",
       "\n",
       "    .dataframe thead th {\n",
       "        text-align: right;\n",
       "    }\n",
       "</style>\n",
       "<table border=\"1\" class=\"dataframe\">\n",
       "  <thead>\n",
       "    <tr style=\"text-align: right;\">\n",
       "      <th></th>\n",
       "      <th>characterID</th>\n",
       "      <th>name</th>\n",
       "    </tr>\n",
       "  </thead>\n",
       "  <tbody>\n",
       "    <tr>\n",
       "      <th>0</th>\n",
       "      <td>1009220</td>\n",
       "      <td>Captain America</td>\n",
       "    </tr>\n",
       "    <tr>\n",
       "      <th>1</th>\n",
       "      <td>1010740</td>\n",
       "      <td>Winter Soldier</td>\n",
       "    </tr>\n",
       "    <tr>\n",
       "      <th>2</th>\n",
       "      <td>1009471</td>\n",
       "      <td>Nick Fury</td>\n",
       "    </tr>\n",
       "    <tr>\n",
       "      <th>3</th>\n",
       "      <td>1009552</td>\n",
       "      <td>S.H.I.E.L.D.</td>\n",
       "    </tr>\n",
       "    <tr>\n",
       "      <th>4</th>\n",
       "      <td>1009228</td>\n",
       "      <td>Sharon Carter</td>\n",
       "    </tr>\n",
       "    <tr>\n",
       "      <th>...</th>\n",
       "      <td>...</td>\n",
       "      <td>...</td>\n",
       "    </tr>\n",
       "    <tr>\n",
       "      <th>1165</th>\n",
       "      <td>1011395</td>\n",
       "      <td>Talon (Fraternity of Raptors)</td>\n",
       "    </tr>\n",
       "    <tr>\n",
       "      <th>1166</th>\n",
       "      <td>1011196</td>\n",
       "      <td>Captain Flint</td>\n",
       "    </tr>\n",
       "    <tr>\n",
       "      <th>1167</th>\n",
       "      <td>1009397</td>\n",
       "      <td>Lava-Man</td>\n",
       "    </tr>\n",
       "    <tr>\n",
       "      <th>1168</th>\n",
       "      <td>1011113</td>\n",
       "      <td>Blue Blade</td>\n",
       "    </tr>\n",
       "    <tr>\n",
       "      <th>1169</th>\n",
       "      <td>1011094</td>\n",
       "      <td>Xavin</td>\n",
       "    </tr>\n",
       "  </tbody>\n",
       "</table>\n",
       "<p>1170 rows × 2 columns</p>\n",
       "</div>"
      ],
      "text/plain": [
       "      characterID                           name\n",
       "0         1009220                Captain America\n",
       "1         1010740                 Winter Soldier\n",
       "2         1009471                      Nick Fury\n",
       "3         1009552                   S.H.I.E.L.D.\n",
       "4         1009228                  Sharon Carter\n",
       "...           ...                            ...\n",
       "1165      1011395  Talon (Fraternity of Raptors)\n",
       "1166      1011196                  Captain Flint\n",
       "1167      1009397                       Lava-Man\n",
       "1168      1011113                     Blue Blade\n",
       "1169      1011094                          Xavin\n",
       "\n",
       "[1170 rows x 2 columns]"
      ]
     },
     "metadata": {},
     "output_type": "display_data"
    }
   ],
   "source": [
    "character_database = pd.DataFrame(pd.read_csv(\"characters.csv\"))\n",
    "\n",
    "display(character_database)"
   ]
  },
  {
   "cell_type": "code",
   "execution_count": 6,
   "metadata": {},
   "outputs": [
    {
     "data": {
      "text/plain": [
       "1170"
      ]
     },
     "execution_count": 6,
     "metadata": {},
     "output_type": "execute_result"
    }
   ],
   "source": [
    "listOfID = [i for i in character_database[\"characterID\"]]\n",
    "len(listOfID)"
   ]
  },
  {
   "cell_type": "code",
   "execution_count": 7,
   "metadata": {},
   "outputs": [
    {
     "data": {
      "text/plain": [
       "{'code': 200,\n",
       " 'status': 'Ok',\n",
       " 'copyright': '© 2022 MARVEL',\n",
       " 'attributionText': 'Data provided by Marvel. © 2022 MARVEL',\n",
       " 'attributionHTML': '<a href=\"http://marvel.com\">Data provided by Marvel. © 2022 MARVEL</a>',\n",
       " 'etag': '58212964d0e656cc6b2e8951d2b2f084c3b1968f',\n",
       " 'data': {'offset': 0,\n",
       "  'limit': 20,\n",
       "  'total': 1,\n",
       "  'count': 1,\n",
       "  'results': [{'id': 1011094,\n",
       "    'name': 'Xavin',\n",
       "    'description': '',\n",
       "    'modified': '1969-12-31T19:00:00-0500',\n",
       "    'thumbnail': {'path': 'http://i.annihil.us/u/prod/marvel/i/mg/3/a0/4ce5a49743462',\n",
       "     'extension': 'jpg'},\n",
       "    'resourceURI': 'http://gateway.marvel.com/v1/public/characters/1011094',\n",
       "    'comics': {'available': 2,\n",
       "     'collectionURI': 'http://gateway.marvel.com/v1/public/characters/1011094/comics',\n",
       "     'items': [{'resourceURI': 'http://gateway.marvel.com/v1/public/comics/66859',\n",
       "       'name': 'Runaways Vol. 10: Rock Zombies (Trade Paperback)'},\n",
       "      {'resourceURI': 'http://gateway.marvel.com/v1/public/comics/66321',\n",
       "       'name': 'Runaways Vol. 9: Dead Wrong (Trade Paperback)'}],\n",
       "     'returned': 2},\n",
       "    'series': {'available': 2,\n",
       "     'collectionURI': 'http://gateway.marvel.com/v1/public/characters/1011094/series',\n",
       "     'items': [{'resourceURI': 'http://gateway.marvel.com/v1/public/series/24187',\n",
       "       'name': 'Runaways Vol. 10: Rock Zombies (2018)'},\n",
       "      {'resourceURI': 'http://gateway.marvel.com/v1/public/series/24030',\n",
       "       'name': 'Runaways Vol. 9: Dead Wrong (2018)'}],\n",
       "     'returned': 2},\n",
       "    'stories': {'available': 2,\n",
       "     'collectionURI': 'http://gateway.marvel.com/v1/public/characters/1011094/stories',\n",
       "     'items': [{'resourceURI': 'http://gateway.marvel.com/v1/public/stories/143785',\n",
       "       'name': 'cover from RUNAWAYS VOL. 9: DEAD WRONG TPB (2018) #9',\n",
       "       'type': 'cover'},\n",
       "      {'resourceURI': 'http://gateway.marvel.com/v1/public/stories/144873',\n",
       "       'name': 'cover from RUNAWAYS VOL. 10: ROCK ZOMBIES TPB (2018) #10',\n",
       "       'type': 'cover'}],\n",
       "     'returned': 2},\n",
       "    'events': {'available': 0,\n",
       "     'collectionURI': 'http://gateway.marvel.com/v1/public/characters/1011094/events',\n",
       "     'items': [],\n",
       "     'returned': 0},\n",
       "    'urls': [{'type': 'detail',\n",
       "      'url': 'http://marvel.com/characters/2626/xavin?utm_campaign=apiRef&utm_source=de42e16324aa9d7a054c08a2ed146a8c'},\n",
       "     {'type': 'wiki',\n",
       "      'url': 'http://marvel.com/universe/Xavin?utm_campaign=apiRef&utm_source=de42e16324aa9d7a054c08a2ed146a8c'},\n",
       "     {'type': 'comiclink',\n",
       "      'url': 'http://marvel.com/comics/characters/1011094/xavin?utm_campaign=apiRef&utm_source=de42e16324aa9d7a054c08a2ed146a8c'}]}]}}"
      ]
     },
     "execution_count": 7,
     "metadata": {},
     "output_type": "execute_result"
    }
   ],
   "source": [
    "m.characters.get(1011094)"
   ]
  },
  {
   "cell_type": "code",
   "execution_count": 8,
   "metadata": {},
   "outputs": [],
   "source": [
    "characters_dict = {}\n",
    "\n",
    "for id in listOfID:\n",
    "    characters_dict[id] = m.characters.get(id)['data']['results']"
   ]
  },
  {
   "cell_type": "code",
   "execution_count": 9,
   "metadata": {},
   "outputs": [
    {
     "data": {
      "text/plain": [
       "dict_keys(['id', 'name', 'description', 'modified', 'thumbnail', 'resourceURI', 'comics', 'series', 'stories', 'events', 'urls'])"
      ]
     },
     "execution_count": 9,
     "metadata": {},
     "output_type": "execute_result"
    }
   ],
   "source": [
    "characters_dict[1009220][0].keys()"
   ]
  },
  {
   "cell_type": "code",
   "execution_count": 10,
   "metadata": {},
   "outputs": [],
   "source": [
    "#char_id = characters_dict[1009220][0][\"id\"]\n",
    "#char_name = characters_dict[1009220][0][\"name\"]\n",
    "#char_description = characters_dict[1009220][0][\"description\"]\n",
    "#char_pic = characters_dict[1009220][0][\"thumbnail\"][\"path\"]+\".\"+characters_dict[1009220][0][\"thumbnail\"][\"extension\"] #that contains character pic\n",
    "#char_comics_total = characters_dict[1009220][0][\"comics\"][\"available\"]\n",
    "#char_series_total = characters_dict[1009220][0][\"series\"][\"available\"]\n",
    "#char_stories_total = characters_dict[1009220][0][\"stories\"][\"available\"]\n",
    "#char_events_total = characters_dict[1009220][0][\"events\"][\"available\"]"
   ]
  },
  {
   "cell_type": "code",
   "execution_count": 11,
   "metadata": {},
   "outputs": [],
   "source": [
    "char_dict = {} #clean dict with info selected\n",
    "\n",
    "for id in listOfID:\n",
    "    char_id = characters_dict[id][0][\"id\"]\n",
    "    char_name = characters_dict[id][0][\"name\"]\n",
    "    char_description = characters_dict[id][0][\"description\"]\n",
    "    char_pic = characters_dict[id][0][\"thumbnail\"][\"path\"]+\".\"+characters_dict[id][0][\"thumbnail\"][\"extension\"]\n",
    "    char_comics_total = characters_dict[id][0][\"comics\"][\"available\"]\n",
    "    char_series_total = characters_dict[id][0][\"series\"][\"available\"]\n",
    "    char_stories_total = characters_dict[id][0][\"stories\"][\"available\"]\n",
    "    char_events_total = characters_dict[id][0][\"events\"][\"available\"]\n",
    "\n",
    "    char_dict[id] = {\"id\" : char_id, \"name\" : char_name, \"description\" : char_description,\n",
    "                    \"pic_url\" : char_pic, \"total_comics\" : char_comics_total, \"total_series\" : char_series_total,\n",
    "                    \"total_stories\" : char_stories_total, \"total_events\" : char_events_total}"
   ]
  },
  {
   "cell_type": "code",
   "execution_count": 12,
   "metadata": {},
   "outputs": [
    {
     "data": {
      "text/plain": [
       "{'id': 1009220,\n",
       " 'name': 'Captain America',\n",
       " 'description': \"Vowing to serve his country any way he could, young Steve Rogers took the super soldier serum to become America's one-man army. Fighting for the red, white and blue for over 60 years, Captain America is the living, breathing symbol of freedom and liberty.\",\n",
       " 'pic_url': 'http://i.annihil.us/u/prod/marvel/i/mg/3/50/537ba56d31087.jpg',\n",
       " 'total_comics': 2426,\n",
       " 'total_series': 689,\n",
       " 'total_stories': 3592,\n",
       " 'total_events': 31}"
      ]
     },
     "execution_count": 12,
     "metadata": {},
     "output_type": "execute_result"
    }
   ],
   "source": [
    "char_dict[1009220]"
   ]
  },
  {
   "cell_type": "code",
   "execution_count": 14,
   "metadata": {},
   "outputs": [
    {
     "data": {
      "text/plain": [
       "1170"
      ]
     },
     "execution_count": 14,
     "metadata": {},
     "output_type": "execute_result"
    }
   ],
   "source": [
    "len(char_dict)"
   ]
  },
  {
   "cell_type": "code",
   "execution_count": 22,
   "metadata": {},
   "outputs": [],
   "source": [
    "char_data = pd.DataFrame.from_dict(char_dict).T"
   ]
  },
  {
   "cell_type": "code",
   "execution_count": 23,
   "metadata": {},
   "outputs": [
    {
     "data": {
      "text/html": [
       "<div>\n",
       "<style scoped>\n",
       "    .dataframe tbody tr th:only-of-type {\n",
       "        vertical-align: middle;\n",
       "    }\n",
       "\n",
       "    .dataframe tbody tr th {\n",
       "        vertical-align: top;\n",
       "    }\n",
       "\n",
       "    .dataframe thead th {\n",
       "        text-align: right;\n",
       "    }\n",
       "</style>\n",
       "<table border=\"1\" class=\"dataframe\">\n",
       "  <thead>\n",
       "    <tr style=\"text-align: right;\">\n",
       "      <th></th>\n",
       "      <th>id</th>\n",
       "      <th>name</th>\n",
       "      <th>description</th>\n",
       "      <th>pic_url</th>\n",
       "      <th>total_comics</th>\n",
       "      <th>total_series</th>\n",
       "      <th>total_stories</th>\n",
       "      <th>total_events</th>\n",
       "    </tr>\n",
       "  </thead>\n",
       "  <tbody>\n",
       "    <tr>\n",
       "      <th>1009220</th>\n",
       "      <td>1009220</td>\n",
       "      <td>Captain America</td>\n",
       "      <td>Vowing to serve his country any way he could, ...</td>\n",
       "      <td>http://i.annihil.us/u/prod/marvel/i/mg/3/50/53...</td>\n",
       "      <td>2426</td>\n",
       "      <td>689</td>\n",
       "      <td>3592</td>\n",
       "      <td>31</td>\n",
       "    </tr>\n",
       "    <tr>\n",
       "      <th>1010740</th>\n",
       "      <td>1010740</td>\n",
       "      <td>Winter Soldier</td>\n",
       "      <td></td>\n",
       "      <td>http://i.annihil.us/u/prod/marvel/i/mg/d/03/52...</td>\n",
       "      <td>216</td>\n",
       "      <td>106</td>\n",
       "      <td>232</td>\n",
       "      <td>11</td>\n",
       "    </tr>\n",
       "    <tr>\n",
       "      <th>1009471</th>\n",
       "      <td>1009471</td>\n",
       "      <td>Nick Fury</td>\n",
       "      <td></td>\n",
       "      <td>http://i.annihil.us/u/prod/marvel/i/mg/3/c0/52...</td>\n",
       "      <td>531</td>\n",
       "      <td>200</td>\n",
       "      <td>606</td>\n",
       "      <td>10</td>\n",
       "    </tr>\n",
       "    <tr>\n",
       "      <th>1009552</th>\n",
       "      <td>1009552</td>\n",
       "      <td>S.H.I.E.L.D.</td>\n",
       "      <td></td>\n",
       "      <td>http://i.annihil.us/u/prod/marvel/i/mg/6/20/51...</td>\n",
       "      <td>165</td>\n",
       "      <td>72</td>\n",
       "      <td>196</td>\n",
       "      <td>1</td>\n",
       "    </tr>\n",
       "    <tr>\n",
       "      <th>1009228</th>\n",
       "      <td>1009228</td>\n",
       "      <td>Sharon Carter</td>\n",
       "      <td></td>\n",
       "      <td>http://i.annihil.us/u/prod/marvel/i/mg/6/d0/4c...</td>\n",
       "      <td>114</td>\n",
       "      <td>44</td>\n",
       "      <td>141</td>\n",
       "      <td>4</td>\n",
       "    </tr>\n",
       "    <tr>\n",
       "      <th>...</th>\n",
       "      <td>...</td>\n",
       "      <td>...</td>\n",
       "      <td>...</td>\n",
       "      <td>...</td>\n",
       "      <td>...</td>\n",
       "      <td>...</td>\n",
       "      <td>...</td>\n",
       "      <td>...</td>\n",
       "    </tr>\n",
       "    <tr>\n",
       "      <th>1011395</th>\n",
       "      <td>1011395</td>\n",
       "      <td>Talon (Fraternity of Raptors)</td>\n",
       "      <td>Falling to Earth wrapped in a ball of flame, T...</td>\n",
       "      <td>http://i.annihil.us/u/prod/marvel/i/mg/b/40/im...</td>\n",
       "      <td>1</td>\n",
       "      <td>1</td>\n",
       "      <td>1</td>\n",
       "      <td>0</td>\n",
       "    </tr>\n",
       "    <tr>\n",
       "      <th>1011196</th>\n",
       "      <td>1011196</td>\n",
       "      <td>Captain Flint</td>\n",
       "      <td></td>\n",
       "      <td>http://i.annihil.us/u/prod/marvel/i/mg/b/40/im...</td>\n",
       "      <td>0</td>\n",
       "      <td>0</td>\n",
       "      <td>0</td>\n",
       "      <td>0</td>\n",
       "    </tr>\n",
       "    <tr>\n",
       "      <th>1009397</th>\n",
       "      <td>1009397</td>\n",
       "      <td>Lava-Man</td>\n",
       "      <td></td>\n",
       "      <td>http://i.annihil.us/u/prod/marvel/i/mg/b/40/im...</td>\n",
       "      <td>1</td>\n",
       "      <td>1</td>\n",
       "      <td>1</td>\n",
       "      <td>0</td>\n",
       "    </tr>\n",
       "    <tr>\n",
       "      <th>1011113</th>\n",
       "      <td>1011113</td>\n",
       "      <td>Blue Blade</td>\n",
       "      <td></td>\n",
       "      <td>http://i.annihil.us/u/prod/marvel/i/mg/b/e0/4c...</td>\n",
       "      <td>1</td>\n",
       "      <td>1</td>\n",
       "      <td>1</td>\n",
       "      <td>0</td>\n",
       "    </tr>\n",
       "    <tr>\n",
       "      <th>1011094</th>\n",
       "      <td>1011094</td>\n",
       "      <td>Xavin</td>\n",
       "      <td></td>\n",
       "      <td>http://i.annihil.us/u/prod/marvel/i/mg/3/a0/4c...</td>\n",
       "      <td>2</td>\n",
       "      <td>2</td>\n",
       "      <td>2</td>\n",
       "      <td>0</td>\n",
       "    </tr>\n",
       "  </tbody>\n",
       "</table>\n",
       "<p>1170 rows × 8 columns</p>\n",
       "</div>"
      ],
      "text/plain": [
       "              id                           name  \\\n",
       "1009220  1009220                Captain America   \n",
       "1010740  1010740                 Winter Soldier   \n",
       "1009471  1009471                      Nick Fury   \n",
       "1009552  1009552                   S.H.I.E.L.D.   \n",
       "1009228  1009228                  Sharon Carter   \n",
       "...          ...                            ...   \n",
       "1011395  1011395  Talon (Fraternity of Raptors)   \n",
       "1011196  1011196                  Captain Flint   \n",
       "1009397  1009397                       Lava-Man   \n",
       "1011113  1011113                     Blue Blade   \n",
       "1011094  1011094                          Xavin   \n",
       "\n",
       "                                               description  \\\n",
       "1009220  Vowing to serve his country any way he could, ...   \n",
       "1010740                                                      \n",
       "1009471                                                      \n",
       "1009552                                                      \n",
       "1009228                                                      \n",
       "...                                                    ...   \n",
       "1011395  Falling to Earth wrapped in a ball of flame, T...   \n",
       "1011196                                                      \n",
       "1009397                                                      \n",
       "1011113                                                      \n",
       "1011094                                                      \n",
       "\n",
       "                                                   pic_url total_comics  \\\n",
       "1009220  http://i.annihil.us/u/prod/marvel/i/mg/3/50/53...         2426   \n",
       "1010740  http://i.annihil.us/u/prod/marvel/i/mg/d/03/52...          216   \n",
       "1009471  http://i.annihil.us/u/prod/marvel/i/mg/3/c0/52...          531   \n",
       "1009552  http://i.annihil.us/u/prod/marvel/i/mg/6/20/51...          165   \n",
       "1009228  http://i.annihil.us/u/prod/marvel/i/mg/6/d0/4c...          114   \n",
       "...                                                    ...          ...   \n",
       "1011395  http://i.annihil.us/u/prod/marvel/i/mg/b/40/im...            1   \n",
       "1011196  http://i.annihil.us/u/prod/marvel/i/mg/b/40/im...            0   \n",
       "1009397  http://i.annihil.us/u/prod/marvel/i/mg/b/40/im...            1   \n",
       "1011113  http://i.annihil.us/u/prod/marvel/i/mg/b/e0/4c...            1   \n",
       "1011094  http://i.annihil.us/u/prod/marvel/i/mg/3/a0/4c...            2   \n",
       "\n",
       "        total_series total_stories total_events  \n",
       "1009220          689          3592           31  \n",
       "1010740          106           232           11  \n",
       "1009471          200           606           10  \n",
       "1009552           72           196            1  \n",
       "1009228           44           141            4  \n",
       "...              ...           ...          ...  \n",
       "1011395            1             1            0  \n",
       "1011196            0             0            0  \n",
       "1009397            1             1            0  \n",
       "1011113            1             1            0  \n",
       "1011094            2             2            0  \n",
       "\n",
       "[1170 rows x 8 columns]"
      ]
     },
     "execution_count": 23,
     "metadata": {},
     "output_type": "execute_result"
    }
   ],
   "source": [
    "char_data"
   ]
  }
 ],
 "metadata": {
  "kernelspec": {
   "display_name": "Python 3.9.13 ('base')",
   "language": "python",
   "name": "python3"
  },
  "language_info": {
   "codemirror_mode": {
    "name": "ipython",
    "version": 3
   },
   "file_extension": ".py",
   "mimetype": "text/x-python",
   "name": "python",
   "nbconvert_exporter": "python",
   "pygments_lexer": "ipython3",
   "version": "3.9.13"
  },
  "orig_nbformat": 4,
  "vscode": {
   "interpreter": {
    "hash": "ad2bdc8ecc057115af97d19610ffacc2b4e99fae6737bb82f5d7fb13d2f2c186"
   }
  }
 },
 "nbformat": 4,
 "nbformat_minor": 2
}
